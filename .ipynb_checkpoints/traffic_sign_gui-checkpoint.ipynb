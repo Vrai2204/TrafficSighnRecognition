{
 "cells": [
  {
   "cell_type": "code",
   "execution_count": 1,
   "id": "88aeadba",
   "metadata": {},
   "outputs": [],
   "source": [
    "import tkinter as tk\n",
    "from tkinter import filedialog\n",
    "from tkinter import *\n",
    "from PIL import ImageTk, Image\n",
    "import numpy\n",
    "#load the trained model to classify sign\n",
    "from keras.models import load_model"
   ]
  },
  {
   "cell_type": "code",
   "execution_count": 2,
   "id": "2d6d5213",
   "metadata": {},
   "outputs": [],
   "source": [
    "model = load_model('traffic_classifier.h5py')"
   ]
  },
  {
   "cell_type": "code",
   "execution_count": 3,
   "id": "52ddddd8",
   "metadata": {},
   "outputs": [],
   "source": [
    "#dictionary to label all traffic signs class.\n",
    "classes = { 1:'Speed limit 20km/h',\n",
    "            2:'Speed limit 30km/h', \n",
    "            3:'Speed limit 50km/h', \n",
    "            4:'Speed limit 60km/h', \n",
    "            5:'Speed limit 70km/h', \n",
    "            6:'Speed limit 80km/h', \n",
    "            7:'End of speed limit 80km/h', \n",
    "            8:'Speed limit 100km/h', \n",
    "            9:'Speed limit 120km/h', \n",
    "            10:'No passing', \n",
    "            11:'No passing vehicles over 3 tons', \n",
    "            12:'Right-of-way at intersection', \n",
    "            13:'Priority road', \n",
    "            14:'Yield', \n",
    "            15:'Stop', \n",
    "            16:'No vehicles', \n",
    "            17:'vehicles > 3 tons prohibited', \n",
    "            18:'No entry', \n",
    "            19:'General caution', \n",
    "            20:'Dangerous curve left', \n",
    "            21:'Dangerous curve right', \n",
    "            22:'Double curve', \n",
    "            23:'Bumpy road', \n",
    "            24:'Slippery road', \n",
    "            25:'Road narrows on the right', \n",
    "            26:'Road work', \n",
    "            27:'Traffic signals', \n",
    "            28:'Pedestrians', \n",
    "            29:'Children crossing', \n",
    "            30:'Bicycles crossing', \n",
    "            31:'Beware of ice/snow',\n",
    "            32:'Wild animals crossing', \n",
    "            33:'End speed + passing limits', \n",
    "            34:'Turn right ahead', \n",
    "            35:'Turn left ahead', \n",
    "            36:'Ahead only', \n",
    "            37:'Go straight or right', \n",
    "            38:'Go straight or left', \n",
    "            39:'Keep right', \n",
    "            40:'Keep left', \n",
    "            41:'Roundabout mandatory', \n",
    "            42:'End of no passing', \n",
    "            43:'End no passing vehicles > 3 tons' }"
   ]
  },
  {
   "cell_type": "code",
   "execution_count": 4,
   "id": "a11a3d28",
   "metadata": {},
   "outputs": [],
   "source": [
    "#initialise GUI\n",
    "root=tk.Tk()\n",
    "root.geometry('918x550')\n",
    "root.title('Traffic sign classification')\n",
    "root.configure(background='#b4b4b4')\n",
    "label=Label(root,background='#b4b4b4', font=('Comic Sans MS',15,'bold'))\n",
    "sign_image = Label(root)"
   ]
  },
  {
   "cell_type": "code",
   "execution_count": 5,
   "id": "82ed3683",
   "metadata": {},
   "outputs": [],
   "source": [
    "def classify(file_path):\n",
    "    global label_packed\n",
    "    image = Image.open(file_path)\n",
    "    image = image.resize((30,30))\n",
    "    image = numpy.expand_dims(image, axis=0)\n",
    "    image = numpy.array(image)\n",
    "    pred = model.predict([image])[1]\n",
    "    classes = np.argmax(pred,axis=0)\n",
    "#     pred = model.predict_classes([image])[0].argmax(axis=1)\n",
    "    sign = classes[pred+1]\n",
    "    print(sign)\n",
    "    label.configure(foreground='#3E4149', text=sign) "
   ]
  },
  {
   "cell_type": "code",
   "execution_count": 6,
   "id": "e9163879",
   "metadata": {},
   "outputs": [],
   "source": [
    "def show_classify_button(file_path):\n",
    "    classify_button=Button(root,text=\"Classify Image\",command=lambda: classify(file_path),padx=5,pady=5)\n",
    "    classify_button.configure(background='#364156', foreground='white',font=('arial',10,'bold'))\n",
    "    classify_button.place(relx=0.79,rely=0.46)\n"
   ]
  },
  {
   "cell_type": "code",
   "execution_count": 7,
   "id": "f37370df",
   "metadata": {},
   "outputs": [],
   "source": [
    "def upload_image():\n",
    "    try:\n",
    "        file_path=filedialog.askopenfilename()\n",
    "        uploaded=Image.open(file_path)\n",
    "        uploaded.thumbnail(((root.winfo_width()/2.25),(root.winfo_height()/2.25)))\n",
    "        im=ImageTk.PhotoImage(uploaded)\n",
    "        sign_image.configure(image=im)\n",
    "        sign_image.image=im\n",
    "        label.configure(text='')\n",
    "        show_classify_button(file_path)\n",
    "    except:\n",
    "        pass"
   ]
  },
  {
   "cell_type": "code",
   "execution_count": 8,
   "id": "fd3f3e73",
   "metadata": {},
   "outputs": [],
   "source": [
    "# top=tk.Tk()\n",
    "# top.geometry('800x600')\n",
    "# top.title('Traffic sign recognition')\n",
    "# top.configure(bg='#f9f6f7')\n",
    "# heading = Label(top, text=\"Traffic sign recognition\",pady=20, font=('arial',20,'bold'))\n",
    "# heading.configure(background='#f9f6f7',foreground='#364156')\n",
    "# heading.pack()\n",
    "# result=Label(top, font=('arial',15,'bold'))\n",
    "# result.configure(fg='#011638',bg='#f9f6f7')\n",
    "# sign_image = Label(top)\n",
    "# upload=Button(top,text=\"Upload an image\", command=upload_image,padx=10,pady=5)\n",
    "# upload.configure(background='#364156', foreground='white',font=('arial',10,'bold'))\n",
    "# upload.pack(side=BOTTOM,pady=50)\n",
    "# sign_image.pack(side=BOTTOM,expand=True)\n",
    "# result.pack(side=BOTTOM,expand=True)\n",
    "# top.mainloop()"
   ]
  },
  {
   "cell_type": "code",
   "execution_count": 9,
   "id": "f70a1354",
   "metadata": {},
   "outputs": [],
   "source": [
    "from tkinter import Button"
   ]
  },
  {
   "cell_type": "code",
   "execution_count": 10,
   "id": "088c7338",
   "metadata": {},
   "outputs": [
    {
     "name": "stderr",
     "output_type": "stream",
     "text": [
      "Exception in Tkinter callback\n",
      "Traceback (most recent call last):\n",
      "  File \"C:\\Users\\hpash\\anaconda3\\lib\\tkinter\\__init__.py\", line 1892, in __call__\n",
      "    return self.func(*args)\n",
      "  File \"C:\\Users\\hpash\\AppData\\Local\\Temp\\ipykernel_16416\\1396944857.py\", line 2, in <lambda>\n",
      "    classify_button=Button(root,text=\"Classify Image\",command=lambda: classify(file_path),padx=5,pady=5)\n",
      "  File \"C:\\Users\\hpash\\AppData\\Local\\Temp\\ipykernel_16416\\441746941.py\", line 7, in classify\n",
      "    pred = model.predict([image])[1]\n",
      "  File \"C:\\Users\\hpash\\anaconda3\\lib\\site-packages\\keras\\utils\\traceback_utils.py\", line 67, in error_handler\n",
      "    raise e.with_traceback(filtered_tb) from None\n",
      "  File \"C:\\Users\\hpash\\AppData\\Local\\Temp\\__autograph_generated_filem04i86qm.py\", line 15, in tf__predict_function\n",
      "    retval_ = ag__.converted_call(ag__.ld(step_function), (ag__.ld(self), ag__.ld(iterator)), None, fscope)\n",
      "ValueError: in user code:\n",
      "\n",
      "    File \"C:\\Users\\hpash\\anaconda3\\lib\\site-packages\\keras\\engine\\training.py\", line 1845, in predict_function  *\n",
      "        return step_function(self, iterator)\n",
      "    File \"C:\\Users\\hpash\\anaconda3\\lib\\site-packages\\keras\\engine\\training.py\", line 1834, in step_function  **\n",
      "        outputs = model.distribute_strategy.run(run_step, args=(data,))\n",
      "    File \"C:\\Users\\hpash\\anaconda3\\lib\\site-packages\\keras\\engine\\training.py\", line 1823, in run_step  **\n",
      "        outputs = model.predict_step(data)\n",
      "    File \"C:\\Users\\hpash\\anaconda3\\lib\\site-packages\\keras\\engine\\training.py\", line 1791, in predict_step\n",
      "        return self(x, training=False)\n",
      "    File \"C:\\Users\\hpash\\anaconda3\\lib\\site-packages\\keras\\utils\\traceback_utils.py\", line 67, in error_handler\n",
      "        raise e.with_traceback(filtered_tb) from None\n",
      "    File \"C:\\Users\\hpash\\anaconda3\\lib\\site-packages\\keras\\engine\\input_spec.py\", line 264, in assert_input_compatibility\n",
      "        raise ValueError(f'Input {input_index} of layer \"{layer_name}\" is '\n",
      "\n",
      "    ValueError: Input 0 of layer \"sequential_5\" is incompatible with the layer: expected shape=(None, 30, 30, 3), found shape=(None, 30, 30, 4)\n",
      "\n"
     ]
    }
   ],
   "source": [
    "upload=Button(root,text=\"Upload an image\",command=upload_image,padx=10,pady=5)\n",
    "upload.configure(background='#364156', foreground='white',font=('arial',10,'bold'))\n",
    "upload.pack(side=BOTTOM,pady=50)\n",
    "sign_image.pack(side=BOTTOM,expand=True)\n",
    "label.pack(side=BOTTOM,expand=True)\n",
    "heading = Label(root, text=\"Know Your Traffic Sign\",pady=20, font=('arial',20,'bold'))\n",
    "heading.configure(background='#CDCDCD',foreground='#364156')\n",
    "heading.pack()\n",
    "root.mainloop()"
   ]
  },
  {
   "cell_type": "code",
   "execution_count": null,
   "id": "19420e1b",
   "metadata": {},
   "outputs": [],
   "source": [
    "\n"
   ]
  }
 ],
 "metadata": {
  "kernelspec": {
   "display_name": "Python 3 (ipykernel)",
   "language": "python",
   "name": "python3"
  },
  "language_info": {
   "codemirror_mode": {
    "name": "ipython",
    "version": 3
   },
   "file_extension": ".py",
   "mimetype": "text/x-python",
   "name": "python",
   "nbconvert_exporter": "python",
   "pygments_lexer": "ipython3",
   "version": "3.9.13"
  }
 },
 "nbformat": 4,
 "nbformat_minor": 5
}
