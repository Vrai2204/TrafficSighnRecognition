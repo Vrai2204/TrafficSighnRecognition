{
 "cells": [
  {
   "cell_type": "code",
   "execution_count": 1,
   "id": "a9aeba43",
   "metadata": {},
   "outputs": [],
   "source": [
    "import numpy as np \n",
    "import pandas as pd \n",
    "import matplotlib.pyplot as plt\n",
    "import cv2\n",
    "import tensorflow as tf\n",
    "from PIL import Image\n",
    "import os\n",
    "from sklearn.model_selection import train_test_split\n",
    "from keras.utils import to_categorical\n",
    "from keras.models import Sequential, load_model\n",
    "from keras.layers import Conv2D, MaxPool2D, Dense, Flatten, Dropout"
   ]
  },
  {
   "cell_type": "code",
   "execution_count": 2,
   "id": "435ff676",
   "metadata": {},
   "outputs": [],
   "source": [
    "data = []\n",
    "labels = []\n",
    "classes = 43\n",
    "cur_path = os.getcwd()"
   ]
  },
  {
   "cell_type": "code",
   "execution_count": 3,
   "id": "2c61b4eb",
   "metadata": {},
   "outputs": [],
   "source": [
    "#Retrieving the images and their labels \n",
    "for i in range(classes):\n",
    "    path = os.path.join(cur_path,'train',str(i))\n",
    "    images = os.listdir(path)\n",
    "\n",
    "    for a in images:\n",
    "        try:\n",
    "            image = Image.open(path + '\\\\'+ a)\n",
    "            image = image.resize((30,30))\n",
    "            image = np.array(image)\n",
    "            #sim = Image.fromarray(image)\n",
    "            data.append(image)\n",
    "            labels.append(i)\n",
    "        except:\n",
    "            print(\"Error loading image\")"
   ]
  },
  {
   "cell_type": "code",
   "execution_count": 4,
   "id": "386f8f94",
   "metadata": {},
   "outputs": [],
   "source": [
    "#Converting lists into numpy arrays\n",
    "data = np.array(data)\n",
    "labels = np.array(labels)"
   ]
  },
  {
   "cell_type": "code",
   "execution_count": 6,
   "id": "4f361a1f",
   "metadata": {},
   "outputs": [
    {
     "name": "stdout",
     "output_type": "stream",
     "text": [
      "(39209, 30, 30, 3) (39209,)\n",
      "(31367, 30, 30, 3) (7842, 30, 30, 3) (31367,) (7842,)\n"
     ]
    }
   ],
   "source": [
    "print(data.shape, labels.shape)\n",
    "#Splitting training and testing dataset\n",
    "X_train, X_test, y_train, y_test = train_test_split(data, labels, test_size=0.2, random_state=42)\n",
    "\n",
    "print(X_train.shape, X_test.shape, y_train.shape, y_test.shape)\n",
    "\n",
    "#Converting the labels into one hot encoding\n",
    "y_train = to_categorical(y_train, 43)\n",
    "y_test = to_categorical(y_test, 43)"
   ]
  },
  {
   "cell_type": "code",
   "execution_count": 7,
   "id": "54be630a",
   "metadata": {},
   "outputs": [],
   "source": [
    "#Building the model\n",
    "model = Sequential()\n",
    "model.add(Conv2D(filters=32, kernel_size=(5,5), activation='relu', input_shape=X_train.shape[1:]))\n",
    "model.add(Conv2D(filters=32, kernel_size=(5,5), activation='relu'))\n",
    "model.add(MaxPool2D(pool_size=(2, 2)))\n",
    "model.add(Dropout(rate=0.25))\n",
    "model.add(Conv2D(filters=64, kernel_size=(3, 3), activation='relu'))\n",
    "model.add(Conv2D(filters=64, kernel_size=(3, 3), activation='relu'))\n",
    "model.add(MaxPool2D(pool_size=(2, 2)))\n",
    "model.add(Dropout(rate=0.25))\n",
    "model.add(Flatten())\n",
    "model.add(Dense(256, activation='relu'))\n",
    "model.add(Dropout(rate=0.5))\n",
    "model.add(Dense(43, activation='softmax'))"
   ]
  },
  {
   "cell_type": "code",
   "execution_count": 8,
   "id": "81674628",
   "metadata": {},
   "outputs": [
    {
     "name": "stdout",
     "output_type": "stream",
     "text": [
      "Epoch 1/15\n",
      "981/981 [==============================] - 136s 137ms/step - loss: 1.8533 - accuracy: 0.5167 - val_loss: 0.5636 - val_accuracy: 0.8579\n",
      "Epoch 2/15\n",
      "981/981 [==============================] - 158s 161ms/step - loss: 0.8294 - accuracy: 0.7568 - val_loss: 0.3536 - val_accuracy: 0.9000\n",
      "Epoch 3/15\n",
      "981/981 [==============================] - 148s 151ms/step - loss: 0.6404 - accuracy: 0.8083 - val_loss: 0.3269 - val_accuracy: 0.9007\n",
      "Epoch 4/15\n",
      "981/981 [==============================] - 129s 131ms/step - loss: 0.5578 - accuracy: 0.8313 - val_loss: 0.2280 - val_accuracy: 0.9347\n",
      "Epoch 5/15\n",
      "981/981 [==============================] - 131s 133ms/step - loss: 0.5030 - accuracy: 0.8447 - val_loss: 0.2084 - val_accuracy: 0.9475\n",
      "Epoch 6/15\n",
      "981/981 [==============================] - 131s 133ms/step - loss: 0.4800 - accuracy: 0.8550 - val_loss: 0.1956 - val_accuracy: 0.9412\n",
      "Epoch 7/15\n",
      "981/981 [==============================] - 127s 129ms/step - loss: 0.4412 - accuracy: 0.8675 - val_loss: 0.1767 - val_accuracy: 0.9481\n",
      "Epoch 8/15\n",
      "981/981 [==============================] - 126s 128ms/step - loss: 0.4236 - accuracy: 0.8729 - val_loss: 0.1750 - val_accuracy: 0.9485\n",
      "Epoch 9/15\n",
      "981/981 [==============================] - 119s 122ms/step - loss: 0.4210 - accuracy: 0.8746 - val_loss: 0.1454 - val_accuracy: 0.9564\n",
      "Epoch 10/15\n",
      "981/981 [==============================] - 113s 115ms/step - loss: 0.4015 - accuracy: 0.8799 - val_loss: 0.1132 - val_accuracy: 0.9705\n",
      "Epoch 11/15\n",
      "981/981 [==============================] - 81s 83ms/step - loss: 0.3681 - accuracy: 0.8897 - val_loss: 0.1706 - val_accuracy: 0.9531\n",
      "Epoch 12/15\n",
      "981/981 [==============================] - 83s 85ms/step - loss: 0.3847 - accuracy: 0.8844 - val_loss: 0.1045 - val_accuracy: 0.9705\n",
      "Epoch 13/15\n",
      "981/981 [==============================] - 83s 85ms/step - loss: 0.3771 - accuracy: 0.8855 - val_loss: 0.1022 - val_accuracy: 0.9736\n",
      "Epoch 14/15\n",
      "981/981 [==============================] - 82s 83ms/step - loss: 0.3518 - accuracy: 0.8929 - val_loss: 0.0984 - val_accuracy: 0.9739\n",
      "Epoch 15/15\n",
      "981/981 [==============================] - 82s 83ms/step - loss: 0.3596 - accuracy: 0.8932 - val_loss: 0.1472 - val_accuracy: 0.9615\n"
     ]
    }
   ],
   "source": [
    "#Compilation of the model\n",
    "model.compile(loss='categorical_crossentropy', optimizer='adam', metrics=['accuracy'])\n",
    "\n",
    "epochs = 15\n",
    "history = model.fit(X_train, y_train, batch_size=32, epochs=epochs, validation_data=(X_test, y_test))\n",
    "model.save(\"my_model.h5\")"
   ]
  },
  {
   "cell_type": "code",
   "execution_count": 9,
   "id": "95255a41",
   "metadata": {},
   "outputs": [
    {
     "data": {
      "image/png": "[encoded data removed]",
      "text/plain": [
       "<Figure size 432x288 with 1 Axes>"
      ]
     },
     "metadata": {
      "needs_background": "light"
     },
     "output_type": "display_data"
    },
    {
     "data": {
      "image/png": "[encoded data removed]",
      "text/plain": [
       "<Figure size 432x288 with 1 Axes>"
      ]
     },
     "metadata": {
      "needs_background": "light"
     },
     "output_type": "display_data"
    }
   ],
   "source": [
    "#plotting graphs for accuracy \n",
    "plt.figure(0)\n",
    "plt.plot(history.history['accuracy'], label='training accuracy')\n",
    "plt.plot(history.history['val_accuracy'], label='val accuracy')\n",
    "plt.title('Accuracy')\n",
    "plt.xlabel('epochs')\n",
    "plt.ylabel('accuracy')\n",
    "plt.legend()\n",
    "plt.show()\n",
    "\n",
    "plt.figure(1)\n",
    "plt.plot(history.history['loss'], label='training loss')\n",
    "plt.plot(history.history['val_loss'], label='val loss')\n",
    "plt.title('Loss')\n",
    "plt.xlabel('epochs')\n",
    "plt.ylabel('loss')\n",
    "plt.legend()\n",
    "plt.show()"
   ]
  },
  {
   "cell_type": "code",
   "execution_count": 20,
   "id": "755a8090",
   "metadata": {},
   "outputs": [
    {
     "name": "stdout",
     "output_type": "stream",
     "text": [
      "395/395 [==============================] - 12s 29ms/step\n"
     ]
    }
   ],
   "source": [
    "#testing accuracy on test dataset\n",
    "from sklearn.metrics import accuracy_score\n",
    "\n",
    "y_test = pd.read_csv('Test.csv')\n",
    "\n",
    "labels = y_test[\"ClassId\"].values\n",
    "imgs = y_test[\"Path\"].values\n",
    "\n",
    "data=[]\n",
    "\n",
    "for img in imgs:\n",
    "    image = Image.open(img)\n",
    "    image = image.resize((30,30))\n",
    "    data.append(np.array(image))\n",
    "\n",
    "X_test=np.array(data)\n",
    "\n",
    "pred = model.predict(X_test).argmax(axis=1)"
   ]
  },
  {
   "cell_type": "code",
   "execution_count": 15,
   "id": "8f5c55e0",
   "metadata": {},
   "outputs": [],
   "source": [
    "#Accuracy with the test data\n",
    "from sklearn.metrics import accuracy_score"
   ]
  },
  {
   "cell_type": "code",
   "execution_count": 21,
   "id": "0eda72b8",
   "metadata": {},
   "outputs": [
    {
     "name": "stdout",
     "output_type": "stream",
     "text": [
      "0.9095803642121932\n"
     ]
    }
   ],
   "source": [
    "print(accuracy_score(labels, pred))"
   ]
  },
  {
   "cell_type": "code",
   "execution_count": 23,
   "id": "fadc0a52",
   "metadata": {},
   "outputs": [],
   "source": [
    "model.save('traffic_classifier.h5')"
   ]
  }
 ],
 "metadata": {
  "kernelspec": {
   "display_name": "Python 3 (ipykernel)",
   "language": "python",
   "name": "python3"
  },
  "language_info": {
   "codemirror_mode": {
    "name": "ipython",
    "version": 3
   },
   "file_extension": ".py",
   "mimetype": "text/x-python",
   "name": "python",
   "nbconvert_exporter": "python",
   "pygments_lexer": "ipython3",
   "version": "3.9.7"
  }
 },
 "nbformat": 4,
 "nbformat_minor": 5
}
